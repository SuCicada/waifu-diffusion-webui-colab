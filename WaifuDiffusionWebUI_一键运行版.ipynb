{
 "nbformat": 4,
 "nbformat_minor": 0,
 "metadata": {
  "colab": {
   "provenance": [],
   "collapsed_sections": []
  },
  "kernelspec": {
   "name": "python3",
   "language": "python",
   "display_name": "Python 3 (ipykernel)"
  },
  "language_info": {
   "name": "python"
  },
  "accelerator": "GPU"
 },
 "cells": [
  {
   "cell_type": "markdown",
   "source": [
    "依次点击每个单元格左边的执行按钮。\n",
    "等待所有执行完成，日志打印会出现 类似` Running on public URL: https://xxxxx.gradio.app`的信息。点击对应链接跳转即可使用"
   ],
   "metadata": {
    "id": "gNKnGS_Bf4sm",
    "pycharm": {
     "name": "#%% md\n"
    }
   }
  },
  {
   "cell_type": "markdown",
   "source": [
    "友情链接\n",
    "- https://github.com/SuCicada/waifu-diffusion-webui-colab\n",
    "- https://github.com/AUTOMATIC1111/stable-diffusion-webui\n"
   ],
   "metadata": {
    "id": "eGHizFNffTGJ",
    "pycharm": {
     "name": "#%% md\n"
    }
   }
  },
  {
   "cell_type": "markdown",
   "source": [
    "##  点击下方小三角来运行"
   ],
   "metadata": {
    "id": "KUTAMx5x1lRI",
    "pycharm": {
     "name": "#%% md\n"
    }
   }
  },
  {
   "cell_type": "code",
   "source": [
    "#@title ## 环境检查\n",
    "#@markdown 这一步是手动的。您需要在顶部的菜单栏上选择一个 GPU 运行时，选择：\n",
    "#@markdown > 运行时 > 更改运行时类型 > 硬件加速器\n",
    "\n",
    "#@markdown 如果你的浏览器是英文，选择\n",
    "#@markdown >  Runtime > Change runtime type > Hardware accelerator\n",
    "\n",
    "#@markdown 将“硬件加速器”更改为 GPU，然后单击“保存”。完成后，执行此单元格以查看有关分配给您的 GPU 的详细信息（可选）。\n",
    "!nvidia-smi"
   ],
   "metadata": {
    "colab": {
     "base_uri": "https://localhost:8080/"
    },
    "cellView": "form",
    "id": "IOA_VqWPgtLl",
    "outputId": "31d4a7ca-0081-4fc7-fcf1-c4d00ae0bf7c",
    "pycharm": {
     "name": "#%%\n"
    }
   },
   "execution_count": 1,
   "outputs": [
    {
     "name": "stdout",
     "output_type": "stream",
     "text": [
      "No devices were found\r\n"
     ]
    }
   ]
  },
  {
   "cell_type": "code",
   "execution_count": 2,
   "metadata": {
    "id": "PYlmlfFReOPd",
    "cellView": "form",
    "pycharm": {
     "name": "#%%\n"
    }
   },
   "outputs": [
    {
     "name": "stdout",
     "output_type": "stream",
     "text": [
      "Cloning into '/content/stable-diffusion-webui'...\r\n",
      "remote: Enumerating objects: 5375, done.\u001B[K\r\n",
      "remote: Counting objects: 100% (273/273), done.\u001B[K\r\n",
      "remote: Compressing objects: 100% (161/161), done.\u001B[K\r\n",
      "remote: Total 5375 (delta 178), reused 170 (delta 112), pack-reused 5102\u001B[K\r\n",
      "Receiving objects: 100% (5375/5375), 20.94 MiB | 10.51 MiB/s, done.\r\n",
      "Resolving deltas: 100% (3775/3775), done.\r\n",
      "--2022-10-11 13:04:13--  https://huggingface.co/CompVis/stable-diffusion-v-1-4-original/resolve/main/sd-v1-4.ckpt\r\n",
      "Resolving huggingface.co (huggingface.co)... 54.210.225.113, 52.5.54.249, 44.195.102.200, ...\r\n",
      "Connecting to huggingface.co (huggingface.co)|54.210.225.113|:443... connected.\r\n",
      "HTTP request sent, awaiting response... 302 Found\r\n",
      "Location: https://cdn-lfs.huggingface.co/repos/4c/37/4c372b4ebb57bbd02e68413d4951aa326d4b3cfb6e62db989e529c6d4b26fb21/fe4efff1e174c627256e44ec2991ba279b3816e364b49f9be2abc0b3ff3f8556?response-content-disposition=attachment%3B%20filename%3D%22sd-v1-4.ckpt%22&Expires=1665722844&Policy=eyJTdGF0ZW1lbnQiOlt7IlJlc291cmNlIjoiaHR0cHM6Ly9jZG4tbGZzLmh1Z2dpbmdmYWNlLmNvL3JlcG9zLzRjLzM3LzRjMzcyYjRlYmI1N2JiZDAyZTY4NDEzZDQ5NTFhYTMyNmQ0YjNjZmI2ZTYyZGI5ODllNTI5YzZkNGIyNmZiMjEvZmU0ZWZmZjFlMTc0YzYyNzI1NmU0NGVjMjk5MWJhMjc5YjM4MTZlMzY0YjQ5ZjliZTJhYmMwYjNmZjNmODU1Nj9yZXNwb25zZS1jb250ZW50LWRpc3Bvc2l0aW9uPWF0dGFjaG1lbnQlM0IlMjBmaWxlbmFtZSUzRCUyMnNkLXYxLTQuY2twdCUyMiIsIkNvbmRpdGlvbiI6eyJEYXRlTGVzc1RoYW4iOnsiQVdTOkVwb2NoVGltZSI6MTY2NTcyMjg0NH19fV19&Signature=PV1xGSxArTo9B4w0UjUU0g92ntIubZkkjzV~NhUdxlmvVPu6txo5t4jx6i4y1WjU361xbu-6yhTpz14qT0tIWu5-EUP-mX3jRJlptxmhCHnj-IJ9HzheFFOy00n4yEE~T-LhwG52xgCOOGJ~ml9bbHm~tCdOzmQSnzQCYVkjjhBHXlAJojwvPr7azJFb~X9wJYkxTTWNKwQMR3hDmdG6Tji~9013ddUfw9XgQtNfxLwd4~cujuL7t1ISUd-rwlEmqFl7X5JmpVzWv6k8WVMULyvk7lp5I7LGQEIxT5Cu-1KXFtBvz2Ag2ir02I-XCOhWTybX7~D1MT023Z-nFpJN2g__&Key-Pair-Id=KVTP0A1DKRTAX [following]\r\n",
      "--2022-10-11 13:04:14--  https://cdn-lfs.huggingface.co/repos/4c/37/4c372b4ebb57bbd02e68413d4951aa326d4b3cfb6e62db989e529c6d4b26fb21/fe4efff1e174c627256e44ec2991ba279b3816e364b49f9be2abc0b3ff3f8556?response-content-disposition=attachment%3B%20filename%3D%22sd-v1-4.ckpt%22&Expires=1665722844&Policy=eyJTdGF0ZW1lbnQiOlt7IlJlc291cmNlIjoiaHR0cHM6Ly9jZG4tbGZzLmh1Z2dpbmdmYWNlLmNvL3JlcG9zLzRjLzM3LzRjMzcyYjRlYmI1N2JiZDAyZTY4NDEzZDQ5NTFhYTMyNmQ0YjNjZmI2ZTYyZGI5ODllNTI5YzZkNGIyNmZiMjEvZmU0ZWZmZjFlMTc0YzYyNzI1NmU0NGVjMjk5MWJhMjc5YjM4MTZlMzY0YjQ5ZjliZTJhYmMwYjNmZjNmODU1Nj9yZXNwb25zZS1jb250ZW50LWRpc3Bvc2l0aW9uPWF0dGFjaG1lbnQlM0IlMjBmaWxlbmFtZSUzRCUyMnNkLXYxLTQuY2twdCUyMiIsIkNvbmRpdGlvbiI6eyJEYXRlTGVzc1RoYW4iOnsiQVdTOkVwb2NoVGltZSI6MTY2NTcyMjg0NH19fV19&Signature=PV1xGSxArTo9B4w0UjUU0g92ntIubZkkjzV~NhUdxlmvVPu6txo5t4jx6i4y1WjU361xbu-6yhTpz14qT0tIWu5-EUP-mX3jRJlptxmhCHnj-IJ9HzheFFOy00n4yEE~T-LhwG52xgCOOGJ~ml9bbHm~tCdOzmQSnzQCYVkjjhBHXlAJojwvPr7azJFb~X9wJYkxTTWNKwQMR3hDmdG6Tji~9013ddUfw9XgQtNfxLwd4~cujuL7t1ISUd-rwlEmqFl7X5JmpVzWv6k8WVMULyvk7lp5I7LGQEIxT5Cu-1KXFtBvz2Ag2ir02I-XCOhWTybX7~D1MT023Z-nFpJN2g__&Key-Pair-Id=KVTP0A1DKRTAX\r\n",
      "Resolving cdn-lfs.huggingface.co (cdn-lfs.huggingface.co)... 99.84.238.125, 99.84.238.126, 99.84.238.175, ...\r\n",
      "Connecting to cdn-lfs.huggingface.co (cdn-lfs.huggingface.co)|99.84.238.125|:443... connected.\r\n",
      "HTTP request sent, awaiting response... 200 OK\r\n",
      "Length: 4265380512 (4.0G) [binary/octet-stream]\r\n",
      "Saving to: ‘/content/stable-diffusion-webui/models/Stable-diffusion/sd-v1-4.ckpt’\r\n",
      "\r\n",
      "/content/stable-dif 100%[===================>]   3.97G  4.90MB/s    in 10m 31s \r\n",
      "\r\n",
      "2022-10-11 13:14:47 (6.44 MB/s) - ‘/content/stable-diffusion-webui/models/Stable-diffusion/sd-v1-4.ckpt’ saved [4265380512/4265380512]\r\n",
      "\r\n",
      "--2022-10-11 13:14:47--  https://huggingface.co/hakurei/waifu-diffusion-v1-3/resolve/main/wd-v1-3-float32.ckpt\r\n",
      "Resolving huggingface.co (huggingface.co)... 44.195.102.200, 54.210.225.113, 54.173.5.192, ...\r\n",
      "Connecting to huggingface.co (huggingface.co)|44.195.102.200|:443... connected.\r\n",
      "HTTP request sent, awaiting response... 302 Found\r\n",
      "Location: https://cdn-lfs.huggingface.co/repos/83/8e/838e890bec8fddfdbc93ceb156ced8b290b4de1f1116c58b34d3af4c9f4fcea7/9dade826203c7ee369881b5dc20d34298fa644c1f137568e09fbc4b9a0d3e817?response-content-disposition=attachment%3B%20filename%3D%22wd-v1-3-float32.ckpt%22&Expires=1665724660&Policy=eyJTdGF0ZW1lbnQiOlt7IlJlc291cmNlIjoiaHR0cHM6Ly9jZG4tbGZzLmh1Z2dpbmdmYWNlLmNvL3JlcG9zLzgzLzhlLzgzOGU4OTBiZWM4ZmRkZmRiYzkzY2ViMTU2Y2VkOGIyOTBiNGRlMWYxMTE2YzU4YjM0ZDNhZjRjOWY0ZmNlYTcvOWRhZGU4MjYyMDNjN2VlMzY5ODgxYjVkYzIwZDM0Mjk4ZmE2NDRjMWYxMzc1NjhlMDlmYmM0YjlhMGQzZTgxNz9yZXNwb25zZS1jb250ZW50LWRpc3Bvc2l0aW9uPWF0dGFjaG1lbnQlM0IlMjBmaWxlbmFtZSUzRCUyMndkLXYxLTMtZmxvYXQzMi5ja3B0JTIyIiwiQ29uZGl0aW9uIjp7IkRhdGVMZXNzVGhhbiI6eyJBV1M6RXBvY2hUaW1lIjoxNjY1NzI0NjYwfX19XX0_&Signature=NS7Mqi1z1wsSTVrBXPO928jaZBBIeaW~4VqHLfEOoDYPlKh6Fh-HcBjdBjETh2fk8p0KOjFFFfcy674m3ZmRWh1HzfoJoSm5nFBT15YsTB5BKZ4~foZaT8i12MsHFVfH8Pjp~8jI75cWoennfRqYvV8DlTk-RE~piCjxEYqTkeZoXis07nbfx9ablPFiij0VNwgtbV6b9gx6mBZl82Y0pYjwaRNfBDv8mpB26O2nsy2lcAo97mJnWGhSWcbxU8BZLcXuvV7GrZJ1JVfnh~Sw3cc7UAhMLpKZ7pr7QXxyZ60-6-QqrFhvVOV23auudsyaucYIZw3HGXoZoaFT8XxikQ__&Key-Pair-Id=KVTP0A1DKRTAX [following]\r\n",
      "--2022-10-11 13:14:48--  https://cdn-lfs.huggingface.co/repos/83/8e/838e890bec8fddfdbc93ceb156ced8b290b4de1f1116c58b34d3af4c9f4fcea7/9dade826203c7ee369881b5dc20d34298fa644c1f137568e09fbc4b9a0d3e817?response-content-disposition=attachment%3B%20filename%3D%22wd-v1-3-float32.ckpt%22&Expires=1665724660&Policy=eyJTdGF0ZW1lbnQiOlt7IlJlc291cmNlIjoiaHR0cHM6Ly9jZG4tbGZzLmh1Z2dpbmdmYWNlLmNvL3JlcG9zLzgzLzhlLzgzOGU4OTBiZWM4ZmRkZmRiYzkzY2ViMTU2Y2VkOGIyOTBiNGRlMWYxMTE2YzU4YjM0ZDNhZjRjOWY0ZmNlYTcvOWRhZGU4MjYyMDNjN2VlMzY5ODgxYjVkYzIwZDM0Mjk4ZmE2NDRjMWYxMzc1NjhlMDlmYmM0YjlhMGQzZTgxNz9yZXNwb25zZS1jb250ZW50LWRpc3Bvc2l0aW9uPWF0dGFjaG1lbnQlM0IlMjBmaWxlbmFtZSUzRCUyMndkLXYxLTMtZmxvYXQzMi5ja3B0JTIyIiwiQ29uZGl0aW9uIjp7IkRhdGVMZXNzVGhhbiI6eyJBV1M6RXBvY2hUaW1lIjoxNjY1NzI0NjYwfX19XX0_&Signature=NS7Mqi1z1wsSTVrBXPO928jaZBBIeaW~4VqHLfEOoDYPlKh6Fh-HcBjdBjETh2fk8p0KOjFFFfcy674m3ZmRWh1HzfoJoSm5nFBT15YsTB5BKZ4~foZaT8i12MsHFVfH8Pjp~8jI75cWoennfRqYvV8DlTk-RE~piCjxEYqTkeZoXis07nbfx9ablPFiij0VNwgtbV6b9gx6mBZl82Y0pYjwaRNfBDv8mpB26O2nsy2lcAo97mJnWGhSWcbxU8BZLcXuvV7GrZJ1JVfnh~Sw3cc7UAhMLpKZ7pr7QXxyZ60-6-QqrFhvVOV23auudsyaucYIZw3HGXoZoaFT8XxikQ__&Key-Pair-Id=KVTP0A1DKRTAX\r\n",
      "Resolving cdn-lfs.huggingface.co (cdn-lfs.huggingface.co)... 13.225.142.84, 13.225.142.107, 13.225.142.70, ...\r\n",
      "Connecting to cdn-lfs.huggingface.co (cdn-lfs.huggingface.co)|13.225.142.84|:443... connected.\r\n",
      "HTTP request sent, awaiting response... 200 OK\r\n",
      "Length: 4265384157 (4.0G) [binary/octet-stream]\r\n",
      "Saving to: ‘/content/stable-diffusion-webui/models/Stable-diffusion/wd-v1-3-float32.ckpt’\r\n",
      "\r\n",
      "/content/stable-dif 100%[===================>]   3.97G  6.24MB/s    in 9m 37s  \r\n",
      "\r\n",
      "2022-10-11 13:24:26 (7.05 MB/s) - ‘/content/stable-diffusion-webui/models/Stable-diffusion/wd-v1-3-float32.ckpt’ saved [4265384157/4265384157]\r\n",
      "\r\n",
      "/content/stable-diffusion-webui\n",
      "Python 3.8.10 (default, Jun  4 2021, 15:09:15) \r\n",
      "[GCC 7.5.0]\r\n",
      "Commit hash: 42bf5fa3256bff5e4640e5a626e750d4e49e01e1\r\n",
      "Installing torch and torchvision\r\n",
      "Traceback (most recent call last):\r\n",
      "  File \"launch.py\", line 164, in <module>\r\n",
      "    prepare_enviroment()\r\n",
      "  File \"launch.py\", line 117, in prepare_enviroment\r\n",
      "    run(f'\"{python}\" -m {torch_command}', \"Installing torch and torchvision\", \"Couldn't install torch\")\r\n",
      "  File \"launch.py\", line 32, in run\r\n",
      "    raise RuntimeError(message)\r\n",
      "RuntimeError: Couldn't install torch.\r\n",
      "Command: \"/root/miniconda3/bin/python\" -m pip install torch==1.12.1+cu113 torchvision==0.13.1+cu113 --extra-index-url https://download.pytorch.org/whl/cu113\r\n",
      "Error code: 137\r\n",
      "stdout: Looking in indexes: https://repo.huaweicloud.com/repository/pypi/simple, https://download.pytorch.org/whl/cu113\r\n",
      "Collecting torch==1.12.1+cu113\r\n",
      "  Downloading https://download.pytorch.org/whl/cu113/torch-1.12.1%2Bcu113-cp38-cp38-linux_x86_64.whl (1837.7 MB)\r\n",
      "\r\n",
      "stderr: Killed\r\n",
      "\r\n",
      "\r\n"
     ]
    }
   ],
   "source": [
    "#@title ## 点击左边小三角来运行\n",
    "#@markdown 等待安装结束，出现类似 Running on public URL: https://xxxxx.gradio.app 即可点击链接跳转使用\n",
    "\n",
    "import os.path\n",
    "\n",
    "work_dir = \"/content/stable-diffusion-webui/\"\n",
    "if not os.path.isdir(work_dir):\n",
    "    !git clone https://github.com/AUTOMATIC1111/stable-diffusion-webui/ {work_dir}\n",
    "\n",
    "def check_sha1sum(file,sha1sum):\n",
    "    print(f\"check {file}\")\n",
    "    if not os.path.isfile(file):\n",
    "        return False\n",
    "    file_sha1sum = !sha1sum {file}\n",
    "    file_sha1sum = file_sha1sum[0].split(\" \")[0].strip()\n",
    "    print(f\"{file} sha1sum: {file_sha1sum} vs {sha1sum}\")\n",
    "    return file_sha1sum == sha1sum\n",
    "\n",
    "\n",
    "sd_ckpt=\"/content/stable-diffusion-webui/models/Stable-diffusion/sd-v1-4.ckpt\"\n",
    "if not check_sha1sum(sd_ckpt, \"210783247af4f65a3d23d026490cc37a670964dd\"):\n",
    "    user_token = \" \" #@param {type:\"string\"}\n",
    "    user_header = f\"\\\"Authorization: Bearer {user_token}\\\"\"\n",
    "    !wget --header={user_header} https://huggingface.co/CompVis/stable-diffusion-v-1-4-original/resolve/main/sd-v1-4.ckpt \\\n",
    "    -O {sd_ckpt}\n",
    "\n",
    "\n",
    "wd_ckpt = \"/content/stable-diffusion-webui/models/Stable-diffusion/wd-v1-3-float32.ckpt\"\n",
    "if not check_sha1sum(wd_ckpt, \"aa13b10f43ade9307450a52733b106b5695884a9\"):\n",
    "    !wget https://huggingface.co/hakurei/waifu-diffusion-v1-3/resolve/main/wd-v1-3-float32.ckpt \\\n",
    "    -O {wd_ckpt}\n",
    "\n",
    "%cd {work_dir}\n",
    "\n",
    "!COMMANDLINE_ARGS=\"--share --gradio-debug \" REQS_FILE=\"requirements.txt\" python launch.py --help\n"
   ]
  }
 ]
}